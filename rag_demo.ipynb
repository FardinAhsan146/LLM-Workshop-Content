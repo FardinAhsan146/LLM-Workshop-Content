{
 "cells": [
  {
   "cell_type": "code",
   "execution_count": 1,
   "id": "e03c1fd6",
   "metadata": {},
   "outputs": [],
   "source": [
    "from utils import *"
   ]
  },
  {
   "cell_type": "markdown",
   "id": "d79601e8",
   "metadata": {},
   "source": [
    "# LLM  WORKSHOP PART 3 \n",
    "## 3 Fast 3 LLM\n",
    "\n",
    "<br>\n",
    "<span style=\"font-size:20px;\">\n",
    "    \n",
    "\n",
    "This workshop is going to be different given its the final one. We will do a live code along instead of a large hands on part. You give me ideas, I write the code, we shall discuss the merits of the ideas on the spot.\n",
    "    \n",
    "Thankfully there are not THAT many techincal things one ought to know about using Language Models. \n",
    "\n",
    " You can go very far with: \n",
    "* Good prompt engineering.\n",
    "* Good software engineering.\n",
    "* Good product engineering.\n",
    "\n",
    "In simple words, the starting limitation is your creativity. Eventually you will run into techincal bandwidth limits, but things are [moving so fast](https://openai.com/blog/new-models-and-developer-products-announced-at-devday) that, that isn't our biggest worry right now.\n",
    "   \n",
    "</span>\n",
    "\n",
    "## Lets also not forget that LLMs opened up a gold mine.\n",
    "\n",
    "<br>\n",
    "<span style=\"font-size:20px;\">\n",
    "    \n",
    "* Whereas Netflix had to wait around 3.5 years to reach 1 million users. Incredibly, it's estimated that ChatGPT hit 100 million monthly active users in January 2023. This made it the fastest-growing application in history until Threads took that crown in July 2023. [Read more](https://explodingtopics.com/blog/chatgpt-users)\n",
    "    * Language models already existed well before ChatGPT got famous. I was using `gpt-3` in 2020! \n",
    "    * All that was missing was someone, somewhere, thinking \"wait I can use this thing that already exists, to make something crazy\".\n",
    "    * AI startup founding is [growing exponentially](https://news.crunchbase.com/ai-robotics/us-startup-funding-doubled-openai-anthropic-2023/). The money is out there, you just have to claim it.\n",
    "\n",
    "    <br>\n",
    "    \n",
    "* LLMs will change the world as we know it. They are a technological revolution on the scale of Electricity, the Internet or Social Media. If you think those things didn't change The World, you are not thinking.\n",
    "    * The labor market shifts will be [immense](https://openai.com/research/gpts-are-gpts). \n",
    "    * Our productivity is going to [skyrocket](https://txt.cohere.com/unlocking-productivity-with-generative-ai/).\n",
    "</span>\n",
    "\n",
    "\n"
   ]
  },
  {
   "attachments": {
    "image.png": {
     "image/png": "[encoded data removed]"
    }
   },
   "cell_type": "markdown",
   "id": "5d87b87b",
   "metadata": {},
   "source": [
    "# Embeddings \n",
    "\n",
    "<br>\n",
    "<span style=\"font-size:20px;\">\n",
    "    \n",
    "\n",
    "Embeddings are crazy.\n",
    "\n",
    "</span>\n",
    "\n",
    "![image.png](attachment:image.png)\n",
    "\n",
    "\n",
    "\n",
    "## What are embeddings. \n",
    "\n",
    "<br>\n",
    "<span style=\"font-size:20px;\">\n",
    "    \n",
    "\n",
    "Embeddings are vectors. Just a list of numbers.\n",
    "    \n",
    "They are representations of semantic data as vectors.\n",
    "    \n",
    "This means that the actual meaning of a sentence is contained within its embedding.\n",
    "    \n",
    "And this also means that we can apply vector operations on them. And treat semantics as math.\n",
    "    \n",
    "The profound insight of embeddings is that semantics exists along some n-dimensional space. LLMs already prove that logic, reason and thought can be approximated with a sufficiently complex universal function generator (Neural Network). \n",
    "    \n",
    "</span>\n",
    "\n",
    "### Lets see what embeddings are "
   ]
  },
  {
   "cell_type": "code",
   "execution_count": 2,
   "id": "b17b5177",
   "metadata": {},
   "outputs": [],
   "source": [
    "sentence = \"This might look like words but it can be represented as\""
   ]
  },
  {
   "cell_type": "code",
   "execution_count": 3,
   "id": "9b614bd0",
   "metadata": {},
   "outputs": [
    {
     "data": {
      "text/plain": [
       "'01010100 01101000 01101001 01110011 00100000 01101101 01101001 01100111 01101000 01110100 00100000 01101100 01101111 01101111 01101011 00100000 01101100 01101001 01101011 01100101 00100000 01110111 01101111 01110010 01100100 01110011 00100000 01100010 01110101 01110100 00100000 01101001 01110100 00100000 01100011 01100001 01101110 00100000 01100010 01100101 00100000 01110010 01100101 01110000 01110010 01100101 01110011 01100101 01101110 01110100 01100101 01100100 00100000 01100001 01110011'"
      ]
     },
     "execution_count": 3,
     "metadata": {},
     "output_type": "execute_result"
    }
   ],
   "source": [
    "# 0's and 1's \n",
    "# Electrons on a transistor \n",
    "' '.join(format(ord(char), '08b') for char in sentence)"
   ]
  },
  {
   "cell_type": "code",
   "execution_count": 4,
   "id": "c0f066c7",
   "metadata": {},
   "outputs": [
    {
     "data": {
      "text/plain": [
       "[-0.008101804,\n",
       " -0.00046369174,\n",
       " 0.0057512405,\n",
       " -0.008433419,\n",
       " -0.017517062,\n",
       " 0.033837713,\n",
       " -0.0042492207,\n",
       " -0.03547628,\n",
       " 0.0071784845,\n",
       " -0.035034124]"
      ]
     },
     "execution_count": 4,
     "metadata": {},
     "output_type": "execute_result"
    }
   ],
   "source": [
    "# A vector \n",
    "# truncated for aesthetics\n",
    "# Spans a much larger space\n",
    "get_embedding(sentence)[0:10]"
   ]
  },
  {
   "cell_type": "code",
   "execution_count": 32,
   "id": "6de1ecd2",
   "metadata": {},
   "outputs": [
    {
     "data": {
      "text/plain": [
       "(0.0, 1.0, 0.09053574604251853)"
      ]
     },
     "execution_count": 32,
     "metadata": {},
     "output_type": "execute_result"
    }
   ],
   "source": [
    "# Lets recall that we can measure the \"orthogonality of a vector\"\n",
    "x_hat = [1,0]\n",
    "y_hat = [0,1]\n",
    "\n",
    "cs = cosine_similarity\n",
    "cs(x_hat,y_hat), cs(x_hat,x_hat), cs(x_hat,[c + 0.1 for c in y_hat])"
   ]
  },
  {
   "cell_type": "code",
   "execution_count": 25,
   "id": "e3ccf9c4",
   "metadata": {},
   "outputs": [
    {
     "name": "stdout",
     "output_type": "stream",
     "text": [
      "Real Country = United States of America, Cosine similarity to City = 0.777\n",
      "Real Country = Australia, Cosine similarity to City = 0.839\n",
      "Real Country = France, Cosine similarity to City = 0.897\n",
      "Real Country = Colombia, Cosine similarity to City = 0.779\n",
      "Real Country = Taiwan, Cosine similarity to City = 0.784\n"
     ]
    }
   ],
   "source": [
    "city = \"Paris\" # We shall play around with values of this \n",
    "city_embedding = get_embedding(city)\n",
    "\n",
    "countries = \"United States of America\",\"Australia\",\"France\",\"Colombia\",\"Taiwan\"\n",
    "for country in countries:\n",
    "    country_embedding = get_embedding(country)\n",
    "    similarity = cosine_similarity(city_embedding,country_embedding)\n",
    "    \n",
    "    print(f\"Country = {country}, Cosine similarity to city = {similarity:.3f}\")"
   ]
  },
  {
   "cell_type": "markdown",
   "id": "566b1bba",
   "metadata": {},
   "source": [
    "## Discussion time\n",
    "\n",
    "<br>\n",
    "<span style=\"font-size:20px;\">\n",
    "    \n",
    "What do you think we can use this use this for?\n",
    "    \n",
    "    \n",
    "What are a few things we can make with embeddings? \n",
    "    \n",
    "    \n",
    "What can we make now that we couldn't before?\n",
    "    \n",
    "    \n",
    "What can YOU make now that YOU couldn't before?\n",
    "\n",
    "\n",
    "</span>\n",
    "\n",
    "<br>\n",
    "<br>\n",
    "<br>\n",
    "<br>\n",
    "<br>\n",
    "<br>\n",
    "<br>\n",
    "<br>\n",
    "<br>\n",
    "<br>\n",
    "<br>\n",
    "<br>\n",
    "<br>\n",
    "<br>\n",
    "<br>\n",
    "<br>\n",
    "<br>\n",
    "<br>\n",
    "<br>\n",
    "<br>\n",
    "<br>\n",
    "<br>\n",
    "<br>\n",
    "<br>\n",
    "\n",
    "\n",
    "\n",
    "\n",
    "\n",
    "\n",
    "\n",
    "\n",
    "\n",
    "\n",
    "\n",
    "<span style=\"font-size:20px;\">\n",
    "    \n",
    "Oh I forgot to mention. [Text embeddings work on other kinds of data as well](https://sidsite.com/posts/video-search-demo/).\n",
    "\n",
    "\n",
    "</span>"
   ]
  },
  {
   "cell_type": "markdown",
   "id": "8dd33aec",
   "metadata": {},
   "source": [
    "### Lets make a naive search engine"
   ]
  },
  {
   "cell_type": "code",
   "execution_count": 36,
   "id": "4d28a103",
   "metadata": {},
   "outputs": [],
   "source": [
    "# Lets for a second imagine this is a database\n",
    "# In some kind of ecommerce company, lol \n",
    "database = [\n",
    "    \"Coke Zero Caffeine Free Soda 12 oz Cans Bundled by Louisiana Pantry (24 Pack)\",\n",
    "    \"PlayStation 5 Console -  Marvel’s Spider-Man 2 Bundle (slim)\",\n",
    "    \"EVGA GeForce RTX 2080 Ti Black Edition Gaming, 11GB GDDR6)\",\n",
    "    \"adidas Mens Yeezy Boost 350 V2 GY3438\",\n",
    "    \"SEPHORA COLLECTION Matte Perfection Powder Foundation 24 Warm Beige\",\n",
    "    \"Barbie 3-Story Townhouse Dollhouse with Elevator, Swing Chair, Furniture and Accessories\"\n",
    "]\n",
    "\n",
    "# Let's just embed the product titles\n",
    "# Let's ignore the fact that doing it this way\n",
    "# Is extremely inefficient\n",
    "product_embeddings = [get_embedding(product) for product in database]"
   ]
  },
  {
   "cell_type": "code",
   "execution_count": 81,
   "id": "2ebe2605",
   "metadata": {},
   "outputs": [],
   "source": [
    "# Lets make a search query here \n",
    "search_query = \"children\"\n",
    "\n",
    "# Lets embed our query as well, you probably see where\n",
    "# we are going with this \n",
    "query_embedding = get_embedding(search_query)\n",
    "\n",
    "# Lets find the cosine similarities of our query and the \n",
    "# product title embeddings \n",
    "query_title_similarities = [cosine_similarity(query_embedding,product_embedding) for product_embedding in product_embeddings]"
   ]
  },
  {
   "cell_type": "code",
   "execution_count": 82,
   "id": "12f1d1b2",
   "metadata": {},
   "outputs": [
    {
     "data": {
      "text/plain": [
       "'Barbie 3-Story Townhouse Dollhouse with Elevator, Swing Chair, Furniture and Accessories'"
      ]
     },
     "execution_count": 82,
     "metadata": {},
     "output_type": "execute_result"
    }
   ],
   "source": [
    "database[np.argmax(query_title_similarities)]"
   ]
  },
  {
   "cell_type": "markdown",
   "id": "bace08cd",
   "metadata": {},
   "source": [
    "## Quick Question\n",
    "\n",
    "<br>\n",
    "<span style=\"font-size:20px;\">\n",
    "    \n",
    "Did you guys realize that the trick I showed you above is actually two things in one? In that there is a secret algorithm inside of the one I showed you? It's in plain sight. \n",
    "    \n",
    "Hint: [Google](https://en.wikipedia.org/wiki/PageRank).\n",
    "\n",
    "\n",
    "</span>\n",
    "\n",
    "<br>\n",
    "<br>\n",
    "<br>\n",
    "<br>\n",
    "<br>\n",
    "<br>\n",
    "<br>\n",
    "<br>\n",
    "<br>\n",
    "<br>\n",
    "<br>\n",
    "<br>\n",
    "<br>\n",
    "<br>\n",
    "<br>\n",
    "<br>\n",
    "<br>\n",
    "<br>\n",
    "<br>\n",
    "<br>\n",
    "<br>\n",
    "<br>\n",
    "<br>\n",
    "<br>"
   ]
  },
  {
   "attachments": {
    "image.png": {
     "image/png": "[encoded data removed]"
    }
   },
   "cell_type": "markdown",
   "id": "a2280720",
   "metadata": {},
   "source": [
    "## Retrieval Augmented Generation\n",
    "\n",
    "<br>\n",
    "<span style=\"font-size:20px;\">\n",
    "    \n",
    "Retrieval Augmented Generation (RAG) is a technique used to inject knowledge into already trained LLM chat conversations. \n",
    "    \n",
    "The reason we do this is because we might want the LLM to talk about things it might necessarily not know about.\n",
    "    \n",
    "So when the user asks a question that crosses a a certain threshold of similarity. The content of that document is just inserted into the prompt. \n",
    "    \n",
    "This allows the LLM to reference the document and answer questions about it.\n",
    "    \n",
    "You might ask, why do this at all? Can't we just direct the user to the document itself? Well.. we wouldn't need chatbots if people had to the patient to read, lol.\n",
    "\n",
    "\n",
    "\n",
    "</span>\n",
    "\n",
    "![image.png](attachment:image.png)\n",
    "\n",
    "<span style=\"font-size:20px;\">\n",
    "    \n",
    "RAG is actually one of the most common technique various \"AI\" startups are using. However [OpenAI incorporated it](https://www.youtube.com/watch?v=U9mJuUkhUzk) into the new \"Agent\" functionality so I don't really know how much of a moat that exists anymore. \n",
    "\n",
    "\n",
    "</span>\n",
    "\n"
   ]
  },
  {
   "cell_type": "code",
   "execution_count": 62,
   "id": "6adff7f7",
   "metadata": {},
   "outputs": [
    {
     "data": {
      "text/plain": [
       "['Caliphornia.txt', 'Kangarooland.txt', 'Moronistan.txt']"
      ]
     },
     "execution_count": 62,
     "metadata": {},
     "output_type": "execute_result"
    }
   ],
   "source": [
    "os.listdir('knowledge_base')"
   ]
  },
  {
   "cell_type": "code",
   "execution_count": 65,
   "id": "8f558093",
   "metadata": {},
   "outputs": [
    {
     "name": "stdout",
     "output_type": "stream",
     "text": [
      "Nestled snugly within the obtuse angle of geography and intellect lies the remarkably underwhelming country of Moronistan. As if carved out by the less sharp knife in Mother Nature’s drawer, Moronistan is populated with a breed of citizen that makes the Scarecrow from Oz look like Einstein post-brainstorming session.\n",
      "\n",
      "The national flag, a perplexing combination of clashing colors, features the silhouette of a head with a void where the brain should be. Its design speaks volumes about the cognitive prowess—or rather the lack thereof—that pervades the land.\n",
      "\n",
      "Moronistanis, bless their hearts, bumble through life like a troupe of circus clowns minus the intentional humor. Their economy is an accidental tribute to the barter system, for currency was abandoned after the perplexing incident where the entire population collectively forgot what money was actually for and started using bills as kindling for their campfires.\n",
      "\n",
      "Education in Moronistan is as challenging as teaching quantum physics to a grapefruit. School sessions commonly devolve into extended recesses, which include their national sport, “Rock Staring,” where participants gaze intently at pebbles, hoping to witness some kind of geological epiphany. Unsurprisingly, their most esteemed academic institution is the Moronistan Institute of Circular Reasoning—a magnificent building with no entrances or exits, just an endless corridor where students and faculty wander in perpetual confusion.\n",
      "\n",
      "Their political system is a model of inefficiency, consisting of a congress of dolts elected on the grounds that their campaign promises were the most incomprehensible. It's a circus ring where circular debates go on ad nauseam about whether it is the sun that orbits Moronistan or the other way around. Their current president, elected because he literally won a coin toss (and spent a whole week marveling at the shiny object before someone explained the result), delivers addresses that leave linguists baffled and satirists unemployed.\n",
      "\n",
      "In Moronistan, common sense is so rare it is considered a superpower. The national pastime is the construction and prompt collapse of houses of cards, seen as a metaphor for their attempts at establishing any long-term plans. It's a land bewildering in its capacity to take one step forward and three steps backward, a place where the light at the end of the tunnel is almost certainly an oncoming train.\n",
      "\n",
      "Yet, in an odd way, one could argue that the carefree, slow-witted charm of Moronistanis is a beacon of hope—a testament to human survival in the absence of any discernible logic. They stride through life with a confidence that can only come from being entirely oblivious to the complexities that plague sharper minds, their blunders a chaotic symphony, composed in the key of duh.\n",
      "\n",
      "In this land of accidental minimalism and blissful ignorance, Moronistan stands as a testament to the notion that ignorance truly is bliss...or at least an endless source of face-palms and befuddled laughter for the rest of the world.\n"
     ]
    }
   ],
   "source": [
    "print(read_file('knowledge_base/Moronistan.txt'))"
   ]
  },
  {
   "cell_type": "code",
   "execution_count": null,
   "id": "db9e16ec",
   "metadata": {},
   "outputs": [],
   "source": [
    "def chat_with_gpt_rag() -> None:\n",
    "    \"\"\"lol\"\"\"\n",
    "    messages = [{\"role\": \"system\",\"content\": \"If you don't know about it. Please say you don't. Don't make things up. Moreover you might be given knowledge about things, answer from that verbatim.\"},{\"role\": \"assistant\",\"content\": \"Hello!\"}]\n",
    "    \n",
    "    knowledge_content = \n",
    "    knowledge_embeddings \n",
    "\n",
    "    intercepted = False\n",
    "    while True: \n",
    "        user_input = input(\"User: \")\n",
    "        if user_input == \"STOP\":\n",
    "            break\n",
    "            \n",
    "        user_input_embedding = get_embedding(contents[0])\n",
    "\n",
    "        messages.append({'role':'user','content':user_input})\n",
    "        result = get_openai_chat(messages)\n",
    "        print(f\"Bot: {result}\")\n",
    "        messages.append({'role':'assistant','content':result})"
   ]
  },
  {
   "cell_type": "code",
   "execution_count": 67,
   "id": "730dcf89",
   "metadata": {},
   "outputs": [],
   "source": [
    "contents = [read_file(f'knowledge_base/{file}') for file in os.listdir('knowledge_base')]"
   ]
  },
  {
   "cell_type": "code",
   "execution_count": 69,
   "id": "5687b9ef",
   "metadata": {},
   "outputs": [],
   "source": [
    "a = get_embedding(contents[0])"
   ]
  },
  {
   "cell_type": "code",
   "execution_count": 78,
   "id": "26a722c9",
   "metadata": {},
   "outputs": [
    {
     "data": {
      "text/plain": [
       "0.7800214766265425"
      ]
     },
     "execution_count": 78,
     "metadata": {},
     "output_type": "execute_result"
    }
   ],
   "source": [
    "question = 'Can you tell me about moronistan?'\n",
    "qe = get_embedding(question)\n",
    "\n",
    "cs(qe,a)"
   ]
  },
  {
   "cell_type": "code",
   "execution_count": null,
   "id": "94dc25a8",
   "metadata": {},
   "outputs": [],
   "source": []
  }
 ],
 "metadata": {
  "kernelspec": {
   "display_name": "Python 3 (ipykernel)",
   "language": "python",
   "name": "python3"
  },
  "language_info": {
   "codemirror_mode": {
    "name": "ipython",
    "version": 3
   },
   "file_extension": ".py",
   "mimetype": "text/x-python",
   "name": "python",
   "nbconvert_exporter": "python",
   "pygments_lexer": "ipython3",
   "version": "3.8.16"
  }
 },
 "nbformat": 4,
 "nbformat_minor": 5
}
